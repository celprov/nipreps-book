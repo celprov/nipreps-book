{
 "cells": [
  {
   "cell_type": "markdown",
   "id": "89a10189",
   "metadata": {},
   "source": [
    "# Diffusion modeling\n",
    "\n",
    "The proposed method requires inferring a motion-less, reference DW map for a given diffusion orientation for which we want to estimate the misalignment.\n",
    "Inference of the reference map is achieved by first fitting some diffusion model (which we will draw from [DIPY](https://dipy.org)) using all data, except the particular DW map that is to be aligned.\n",
    "We call this scheme \"leave one gradient out\" or \"logo\".\n",
    "\n",
    "All models are required to offer the same API (application programmer interface):\n",
    "\n",
    "1. The initialization takes a DIPY `GradientTable` as the first argument, and then arbitrary parameters as keyword arguments.\n",
    "2. A `fit(data)` method, which only requires a positional argument `data`, a 4D array with DWI data.\n",
    "3. A `predict(gradient_table)` method, which only requires a `GradientTable` as input.\n",
    "   This method produces a prediction of the signal for every voxel in every direction represented in the input `gradient_table`."
   ]
  },
  {
   "cell_type": "code",
   "execution_count": 1,
   "id": "d2a27c17",
   "metadata": {
    "tags": [
     "hide-cell"
    ]
   },
   "outputs": [],
   "source": [
    "from eddymotion.dmri import DWI\n",
    "from eddymotion.viz import plot_dwi\n",
    "dmri_dataset = DWI.from_filename(\"../../data/dwi.h5\")"
   ]
  },
  {
   "cell_type": "markdown",
   "id": "051c9a35",
   "metadata": {},
   "source": [
    "## Implementing a trivial model\n",
    "\n",
    "We will first start implementing a *trivial* model.\n",
    "This model will always return the reference *b=0* map, regardless of the particular diffusion orientation model.\n",
    "In other words, it is just a ***constant*** model.\n",
    "\n",
    "Its simplicity does not diminish its great usefulness.\n",
    "First, when coding it is very important to build up iteratively in complexity.\n",
    "This model will allow to easily test the overall integration of the different components of our head-motion estimation algorithm.\n",
    "Also, this model will allow a very straightforward implementation of registration to the *b=0* reference, which is commonly used to initialize the head-motion estimation parameters."
   ]
  },
  {
   "cell_type": "code",
   "execution_count": 2,
   "id": "9a5f6bc4",
   "metadata": {},
   "outputs": [],
   "source": [
    "class TrivialB0Model:\n",
    "    \"\"\"\n",
    "    A trivial model that returns a *b=0* map always.\n",
    "\n",
    "    Implements the interface of :obj:`dipy.reconst.base.ReconstModel`.\n",
    "    Instead of inheriting from the abstract base, this implementation\n",
    "    follows type adaptation principles, as it is easier to maintain\n",
    "    and to read (see https://www.youtube.com/watch?v=3MNVP9-hglc).\n",
    "\n",
    "    \"\"\"\n",
    "\n",
    "    __slots__ = (\"_S0\",)\n",
    "\n",
    "    def __init__(self, gtab, S0=None, **kwargs):\n",
    "        \"\"\"Implement object initialization.\"\"\"\n",
    "        if S0 is None:\n",
    "            raise ValueError(\"S0 must be provided\")\n",
    "\n",
    "        self._S0 = S0\n",
    "\n",
    "    def fit(self, *args, **kwargs):\n",
    "        \"\"\"Do nothing.\"\"\"\n",
    "\n",
    "    def predict(self, gradient, **kwargs):\n",
    "        \"\"\"Return the *b=0* map.\"\"\"\n",
    "        return self._S0\n"
   ]
  },
  {
   "cell_type": "markdown",
   "id": "4f3435c4",
   "metadata": {},
   "source": [
    "The model can easily be initialized as follows (assuming we still have our dataset loaded):"
   ]
  },
  {
   "cell_type": "code",
   "execution_count": 3,
   "id": "485f4da5",
   "metadata": {},
   "outputs": [
    {
     "ename": "ValueError",
     "evalue": "S0 must be provided",
     "output_type": "error",
     "traceback": [
      "\u001b[0;31m---------------------------------------------------------------------------\u001b[0m",
      "\u001b[0;31mValueError\u001b[0m                                Traceback (most recent call last)",
      "\u001b[0;32m<ipython-input-3-57ffd94e5f1e>\u001b[0m in \u001b[0;36m<module>\u001b[0;34m\u001b[0m\n\u001b[1;32m      1\u001b[0m model = TrivialB0Model(\n\u001b[0;32m----> 2\u001b[0;31m         \u001b[0mdmri_dataset\u001b[0m\u001b[0;34m.\u001b[0m\u001b[0mgradients\u001b[0m\u001b[0;34m,\u001b[0m\u001b[0;34m\u001b[0m\u001b[0;34m\u001b[0m\u001b[0m\n\u001b[0m\u001b[1;32m      3\u001b[0m )\n",
      "\u001b[0;32m<ipython-input-2-85858524ea44>\u001b[0m in \u001b[0;36m__init__\u001b[0;34m(self, gtab, S0, **kwargs)\u001b[0m\n\u001b[1;32m     15\u001b[0m         \u001b[0;34m\"\"\"Implement object initialization.\"\"\"\u001b[0m\u001b[0;34m\u001b[0m\u001b[0;34m\u001b[0m\u001b[0m\n\u001b[1;32m     16\u001b[0m         \u001b[0;32mif\u001b[0m \u001b[0mS0\u001b[0m \u001b[0;32mis\u001b[0m \u001b[0;32mNone\u001b[0m\u001b[0;34m:\u001b[0m\u001b[0;34m\u001b[0m\u001b[0;34m\u001b[0m\u001b[0m\n\u001b[0;32m---> 17\u001b[0;31m             \u001b[0;32mraise\u001b[0m \u001b[0mValueError\u001b[0m\u001b[0;34m(\u001b[0m\u001b[0;34m\"S0 must be provided\"\u001b[0m\u001b[0;34m)\u001b[0m\u001b[0;34m\u001b[0m\u001b[0;34m\u001b[0m\u001b[0m\n\u001b[0m\u001b[1;32m     18\u001b[0m \u001b[0;34m\u001b[0m\u001b[0m\n\u001b[1;32m     19\u001b[0m         \u001b[0mself\u001b[0m\u001b[0;34m.\u001b[0m\u001b[0m_S0\u001b[0m \u001b[0;34m=\u001b[0m \u001b[0mS0\u001b[0m\u001b[0;34m\u001b[0m\u001b[0;34m\u001b[0m\u001b[0m\n",
      "\u001b[0;31mValueError\u001b[0m: S0 must be provided"
     ]
    }
   ],
   "source": [
    "model = TrivialB0Model(\n",
    "\tdmri_dataset.gradients,\n",
    ")"
   ]
  },
  {
   "cell_type": "markdown",
   "id": "bc8cbe55",
   "metadata": {},
   "source": [
    "Then, at each iteration of our estimation strategy, we will fit this model to the data, after holding one particular direction (`data_test`) out, using the `logo_split` method of the dataset. In every iteration, this finds the b=0 volumes in the data and averages their values in every voxel:"
   ]
  },
  {
   "cell_type": "code",
   "execution_count": null,
   "id": "c88669f1",
   "metadata": {},
   "outputs": [],
   "source": [
    "data_train, data_test = dmri_dataset.logo_split(10)\n",
    "model.fit(data_train[0])"
   ]
  },
  {
   "cell_type": "markdown",
   "id": "44e5ce03",
   "metadata": {},
   "source": [
    "Finally, we can generate our registration reference with the `predict()` method:"
   ]
  },
  {
   "cell_type": "code",
   "execution_count": null,
   "id": "ba34c0c2",
   "metadata": {},
   "outputs": [],
   "source": [
    "predicted = model.predict(data_test[1])\n",
    "plot_dwi(predicted, dmri_dataset.affine, gradient=data_test[1]);"
   ]
  },
  {
   "cell_type": "markdown",
   "id": "25f8aafa",
   "metadata": {},
   "source": [
    "As expected, the *b=0* doesn't look very much like the particular left-out direction, but it is a start!"
   ]
  },
  {
   "cell_type": "code",
   "execution_count": null,
   "id": "1d120f25",
   "metadata": {},
   "outputs": [],
   "source": [
    "plot_dwi(data_test[0], dmri_dataset.affine, gradient=data_test[1]);"
   ]
  },
  {
   "cell_type": "markdown",
   "id": "3cc3c148",
   "metadata": {},
   "source": [
    "## Implementing a *regression to the mean* model\n",
    "\n",
    "### Exercise\n",
    "**Exercise**: Extend the `TrivialB0Model` to produce an average of *all other* diffusion directions, instead of the *b=0*."
   ]
  },
  {
   "cell_type": "code",
   "execution_count": null,
   "id": "90a4d6d7",
   "metadata": {},
   "outputs": [],
   "source": [
    "class AverageDWModel:\n",
    "    \"\"\"A trivial model that returns an average map.\"\"\"\n",
    "\n",
    "    __slots__ = (\"_data\",)\n",
    "\n",
    "    def __init__(self, gtab, **kwargs):\n",
    "        \"\"\"Implement object initialization.\"\"\"\n",
    "        return  # do nothing at initialization time\n",
    "\n",
    "    def fit(self, data, **kwargs):\n",
    "        \"\"\"Calculate the average.\"\"\"\n",
    "        # self._data =  # Use numpy to calculate the average.\n",
    "\n",
    "    def predict(self, gradient, **kwargs):\n",
    "        \"\"\"Return the average map.\"\"\"\n",
    "        return self._data"
   ]
  },
  {
   "cell_type": "markdown",
   "id": "6a5051e5",
   "metadata": {},
   "source": [
    "**Solution**"
   ]
  },
  {
   "cell_type": "code",
   "execution_count": null,
   "id": "fb34b33d",
   "metadata": {
    "tags": [
     "hide-cell"
    ]
   },
   "outputs": [],
   "source": [
    "class AverageDWModel:\n",
    "    \"\"\"A trivial model that returns an average map.\"\"\"\n",
    "\n",
    "    __slots__ = (\"_data\",)\n",
    "\n",
    "    def __init__(self, gtab, **kwargs):\n",
    "        \"\"\"Implement object initialization.\"\"\"\n",
    "        return  # do nothing at initialization time\n",
    "\n",
    "    def fit(self, data, **kwargs):\n",
    "        \"\"\"Calculate the average.\"\"\"\n",
    "        self._data =  data.mean(-1)\n",
    "\n",
    "    def predict(self, gradient, **kwargs):\n",
    "        \"\"\"Return the average map.\"\"\"\n",
    "        return self._data"
   ]
  },
  {
   "cell_type": "markdown",
   "id": "be59a39f",
   "metadata": {},
   "source": [
    "### Exercise\n",
    "**Exercise**: Use the new `AverageDWModel` you just created.\n",
    "**Solution**"
   ]
  },
  {
   "cell_type": "code",
   "execution_count": null,
   "id": "bad9c617",
   "metadata": {
    "tags": [
     "hide-cell"
    ]
   },
   "outputs": [],
   "source": [
    "model = AverageDWModel(\n",
    "    dmri_dataset.gradients,\n",
    ")\n",
    "model.fit(data_train[0])\n",
    "predicted = model.predict(data_test[1])\n",
    "plot_dwi(predicted, dmri_dataset.affine, gradient=data_test[1]);\n",
    "plot_dwi(data_test[0], dmri_dataset.affine, gradient=data_test[1]);"
   ]
  },
  {
   "cell_type": "markdown",
   "id": "db6ae46e",
   "metadata": {},
   "source": [
    "## Investigating the tensor model\n",
    "\n",
    "Now, we are ready to use the diffusion tensor model.\n",
    "We will use the wrap around DIPY's implementation that we distribute with `eddymotion`."
   ]
  },
  {
   "cell_type": "code",
   "execution_count": null,
   "id": "ca542573",
   "metadata": {
    "tags": [
     "remove-cell"
    ]
   },
   "outputs": [],
   "source": [
    "from tempfile import mkstemp\n",
    "from pathlib import Path\n",
    "import requests\n",
    "\n",
    "if dmri_dataset._filepath.exists():\n",
    "    dmri_dataset._filepath.unlink()\n",
    "url = \"https://files.osf.io/v1/resources/8k95s/providers/osfstorage/6070b4c2f6585f03fb6123a2\"\n",
    "datapath = Path(mkstemp(suffix=\".h5\")[1])\n",
    "if datapath.stat().st_size == 0:\n",
    "    datapath.write_bytes(\n",
    "        requests.get(url, allow_redirects=True).content\n",
    "    )\n",
    "\n",
    "dmri_dataset = DWI.from_filename(datapath)\n",
    "datapath.unlink()\n",
    "data_train, data_test = dmri_dataset.logo_split(88, with_b0=True)"
   ]
  },
  {
   "cell_type": "markdown",
   "id": "8484caaa",
   "metadata": {},
   "source": [
    "### The model factory\n",
    "To permit flexibility in selecting models, the `eddymotion` package offers a `ModelFactory` that implements the *facade design pattern*.\n",
    "This means that `ModelFactory` makes it easier for the user to switch between models:"
   ]
  },
  {
   "cell_type": "code",
   "execution_count": null,
   "id": "6b7a1052",
   "metadata": {},
   "outputs": [],
   "source": [
    "from eddymotion.model import ModelFactory\n",
    "\n",
    "# We are using now a full dataset, we need to split the data again\n",
    "\n",
    "model = ModelFactory.init(\n",
    "    gtab=data_train[1],\n",
    "    model=\"Tensor\",\n",
    "    S0=dmri_dataset.bzero,\n",
    ")"
   ]
  },
  {
   "cell_type": "markdown",
   "id": "bc8765d3",
   "metadata": {},
   "source": [
    "### Leveraging the `fit()` / `predict()` API\n",
    "\n",
    "The `ModelFactory` returns a model object that is compliant with the interface sketched above:"
   ]
  },
  {
   "cell_type": "code",
   "execution_count": null,
   "id": "978c7e4a",
   "metadata": {},
   "outputs": [],
   "source": [
    "model.fit(data_train[0])\n",
    "predicted = model.predict(data_test[1])"
   ]
  },
  {
   "cell_type": "markdown",
   "id": "1068acb7",
   "metadata": {},
   "source": [
    "Now, the predicted map for the particular ***b*** gradient looks much closer to the original:"
   ]
  },
  {
   "cell_type": "code",
   "execution_count": null,
   "id": "fac6c871",
   "metadata": {},
   "outputs": [],
   "source": [
    "plot_dwi(predicted, dmri_dataset.affine, gradient=data_test[1], black_bg=True);"
   ]
  },
  {
   "cell_type": "markdown",
   "id": "28e7f30f",
   "metadata": {},
   "source": [
    "Here's the original DW map, for reference:"
   ]
  },
  {
   "cell_type": "code",
   "execution_count": null,
   "id": "ae166318",
   "metadata": {},
   "outputs": [],
   "source": [
    "plot_dwi(data_test[0], dmri_dataset.affine, gradient=data_test[1]);"
   ]
  },
  {
   "cell_type": "markdown",
   "id": "e9e04f30",
   "metadata": {},
   "source": [
    "### Exercise\n",
    "\n",
    "**Exercise**: Use the `ModelFactory` to initialize a `\"DKI\"` (diffusion Kurtosis imaging) model"
   ]
  },
  {
   "cell_type": "code",
   "execution_count": null,
   "id": "ebdd2e2e",
   "metadata": {
    "tags": [
     "hide-cell"
    ]
   },
   "outputs": [],
   "source": [
    "model = ModelFactory.init(\n",
    "    gtab=data_train[1],\n",
    "    model=\"DKI\",\n",
    "    S0=dmri_dataset.bzero,\n",
    ")"
   ]
  },
  {
   "cell_type": "markdown",
   "id": "c250965f",
   "metadata": {},
   "source": [
    "Once the model has been initialized, we can easily generate a new prediction."
   ]
  },
  {
   "cell_type": "code",
   "execution_count": null,
   "id": "e17d8ac1",
   "metadata": {},
   "outputs": [],
   "source": [
    "model.fit(data_train[0])\n",
    "predicted = model.predict(data_test[1])\n",
    "plot_dwi(predicted, dmri_dataset.affine, gradient=data_test[1], black_bg=True);\n",
    "plot_dwi(data_test[0], dmri_dataset.affine, gradient=data_test[1]);"
   ]
  },
  {
   "cell_type": "markdown",
   "id": "69f8733d",
   "metadata": {},
   "source": [
    "## Next steps: image registration\n",
    "\n",
    "Once we have our model factory readily available, it will be easy to generate predictions that we can use for reference in image registration."
   ]
  }
 ],
 "metadata": {
  "jupytext": {
   "formats": "md:myst",
   "text_representation": {
    "extension": ".md",
    "format_name": "myst"
   }
  },
  "kernelspec": {
   "display_name": "Python 3",
   "language": "python",
   "name": "python3"
  },
  "language_info": {
   "codemirror_mode": {
    "name": "ipython",
    "version": 3
   },
   "file_extension": ".py",
   "mimetype": "text/x-python",
   "name": "python",
   "nbconvert_exporter": "python",
   "pygments_lexer": "ipython3",
   "version": "3.7.10"
  },
  "source_map": [
   11,
   26,
   32,
   45,
   74,
   78,
   82,
   86,
   89,
   93,
   96,
   99,
   101,
   108,
   125,
   128,
   147,
   152,
   162,
   169,
   187,
   193,
   203,
   209,
   212,
   215,
   217,
   220,
   222,
   227,
   235,
   239,
   244
  ]
 },
 "nbformat": 4,
 "nbformat_minor": 5
}